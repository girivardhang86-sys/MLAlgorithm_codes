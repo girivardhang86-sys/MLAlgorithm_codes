{
 "cells": [
  {
   "cell_type": "code",
   "execution_count": 21,
   "id": "6dd71b24-f9fa-4c78-a642-2b29eb6eb38e",
   "metadata": {},
   "outputs": [],
   "source": [
    "\n",
    "import pandas as pd\n",
    "import numpy as np"
   ]
  },
  {
   "cell_type": "code",
   "execution_count": 41,
   "id": "4884e7b6-d626-4f09-bd7f-8cab1e702d5a",
   "metadata": {},
   "outputs": [
    {
     "data": {
      "text/html": [
       "<div>\n",
       "<style scoped>\n",
       "    .dataframe tbody tr th:only-of-type {\n",
       "        vertical-align: middle;\n",
       "    }\n",
       "\n",
       "    .dataframe tbody tr th {\n",
       "        vertical-align: top;\n",
       "    }\n",
       "\n",
       "    .dataframe thead th {\n",
       "        text-align: right;\n",
       "    }\n",
       "</style>\n",
       "<table border=\"1\" class=\"dataframe\">\n",
       "  <thead>\n",
       "    <tr style=\"text-align: right;\">\n",
       "      <th></th>\n",
       "      <th>cgpa</th>\n",
       "      <th>package</th>\n",
       "    </tr>\n",
       "  </thead>\n",
       "  <tbody>\n",
       "    <tr>\n",
       "      <th>0</th>\n",
       "      <td>6.89</td>\n",
       "      <td>3.26</td>\n",
       "    </tr>\n",
       "    <tr>\n",
       "      <th>1</th>\n",
       "      <td>5.12</td>\n",
       "      <td>1.98</td>\n",
       "    </tr>\n",
       "    <tr>\n",
       "      <th>2</th>\n",
       "      <td>7.82</td>\n",
       "      <td>3.25</td>\n",
       "    </tr>\n",
       "    <tr>\n",
       "      <th>3</th>\n",
       "      <td>7.42</td>\n",
       "      <td>3.67</td>\n",
       "    </tr>\n",
       "    <tr>\n",
       "      <th>4</th>\n",
       "      <td>6.94</td>\n",
       "      <td>3.57</td>\n",
       "    </tr>\n",
       "  </tbody>\n",
       "</table>\n",
       "</div>"
      ],
      "text/plain": [
       "   cgpa  package\n",
       "0  6.89     3.26\n",
       "1  5.12     1.98\n",
       "2  7.82     3.25\n",
       "3  7.42     3.67\n",
       "4  6.94     3.57"
      ]
     },
     "execution_count": 41,
     "metadata": {},
     "output_type": "execute_result"
    }
   ],
   "source": [
    "#df=pd.read_csv('diabetes.csv')\n",
    "df=pd.read_csv('placement (2).csv')\n",
    "df.head()"
   ]
  },
  {
   "cell_type": "code",
   "execution_count": 43,
   "id": "4a39614a-b1d8-4fd3-881c-af126f95357c",
   "metadata": {},
   "outputs": [
    {
     "data": {
      "text/plain": [
       "0      6.89\n",
       "1      5.12\n",
       "2      7.82\n",
       "3      7.42\n",
       "4      6.94\n",
       "       ... \n",
       "195    6.93\n",
       "196    5.89\n",
       "197    7.21\n",
       "198    7.63\n",
       "199    6.22\n",
       "Name: cgpa, Length: 200, dtype: float64"
      ]
     },
     "execution_count": 43,
     "metadata": {},
     "output_type": "execute_result"
    }
   ],
   "source": [
    "X=df.iloc[:,0]\n",
    "X"
   ]
  },
  {
   "cell_type": "code",
   "execution_count": 45,
   "id": "65175e8d-852b-4378-a29c-e1160826aaed",
   "metadata": {},
   "outputs": [],
   "source": [
    "y=df.iloc[:,-1]"
   ]
  },
  {
   "cell_type": "code",
   "execution_count": 47,
   "id": "fc360566-f8de-4f5f-bb6a-df4a683c3643",
   "metadata": {},
   "outputs": [
    {
     "data": {
      "text/plain": [
       "0      3.26\n",
       "1      1.98\n",
       "2      3.25\n",
       "3      3.67\n",
       "4      3.57\n",
       "       ... \n",
       "195    2.46\n",
       "196    2.57\n",
       "197    3.24\n",
       "198    3.96\n",
       "199    2.33\n",
       "Name: package, Length: 200, dtype: float64"
      ]
     },
     "execution_count": 47,
     "metadata": {},
     "output_type": "execute_result"
    }
   ],
   "source": [
    "y"
   ]
  },
  {
   "cell_type": "code",
   "execution_count": 49,
   "id": "e80c1fc8-0183-4da3-96ac-19606a54d424",
   "metadata": {},
   "outputs": [],
   "source": [
    "\n",
    "from sklearn.linear_model import LinearRegression\n",
    "from sklearn.tree import DecisionTreeRegressor\n",
    "from sklearn.svm import SVR\n",
    "from sklearn.model_selection import cross_val_score\n",
    "     \n",
    "\n",
    "lr = LinearRegression()\n",
    "dt = DecisionTreeRegressor()\n",
    "svr = SVR()\n",
    "     "
   ]
  },
  {
   "cell_type": "code",
   "execution_count": 51,
   "id": "49e2e1e3-38b7-4886-8c5c-9e48b4abfc3d",
   "metadata": {},
   "outputs": [],
   "source": [
    "estimators = [('lr',lr),('dt',dt),('svr',svr)]"
   ]
  },
  {
   "cell_type": "code",
   "execution_count": 62,
   "id": "af677267-da46-4767-a83a-5c5d93e2bf13",
   "metadata": {},
   "outputs": [
    {
     "name": "stdout",
     "output_type": "stream",
     "text": [
      "LinearRegression 0.55\n",
      "Lasso 0.2\n",
      "DecisionTree 0.35\n"
     ]
    }
   ],
   "source": [
    "\n",
    "from sklearn.datasets import fetch_california_housing\n",
    "from sklearn.model_selection import cross_val_score\n",
    "from sklearn.linear_model import LinearRegression, Lasso\n",
    "from sklearn.tree import DecisionTreeRegressor\n",
    "import numpy as np\n",
    "\n",
    "# Load data\n",
    "X, y = fetch_california_housing(return_X_y=True)\n",
    "\n",
    "# Estimators list\n",
    "estimators = [\n",
    "    ('LinearRegression', LinearRegression()),\n",
    "    ('Lasso', Lasso()),\n",
    "    ('DecisionTree', DecisionTreeRegressor())\n",
    "]\n",
    "\n",
    "# Loop over each estimator\n",
    "for name, model in estimators:\n",
    "    scores = cross_val_score(model, X, y, scoring='r2', cv=5)\n",
    "    print(name, np.round(np.mean(scores), 2))\n"
   ]
  },
  {
   "cell_type": "code",
   "execution_count": 63,
   "id": "75a68377-c808-4f6f-b044-9ffaab57fe60",
   "metadata": {},
   "outputs": [],
   "source": [
    "from sklearn.ensemble import VotingRegressor"
   ]
  },
  {
   "cell_type": "code",
   "execution_count": 66,
   "id": "94c27b9a-09b8-49d2-aa68-318431b066b9",
   "metadata": {},
   "outputs": [
    {
     "name": "stdout",
     "output_type": "stream",
     "text": [
      "Voting Regressor 0.56\n"
     ]
    }
   ],
   "source": [
    "\n",
    "\n",
    "vr = VotingRegressor(estimators)\n",
    "scores = cross_val_score(vr,X,y,scoring='r2',cv=5)\n",
    "print(\"Voting Regressor\",np.round(np.mean(scores),2))"
   ]
  },
  {
   "cell_type": "code",
   "execution_count": 68,
   "id": "7f9ae7c3-fc58-403a-943d-ea20340b625a",
   "metadata": {},
   "outputs": [
    {
     "name": "stdout",
     "output_type": "stream",
     "text": [
      "For i=1,j=1,k=1 0.51\n",
      "For i=1,j=1,k=2 0.5\n",
      "For i=1,j=1,k=3 0.48\n",
      "For i=1,j=2,k=1 0.45\n",
      "For i=1,j=2,k=2 0.47\n",
      "For i=1,j=2,k=3 0.47\n",
      "For i=1,j=3,k=1 0.4\n",
      "For i=1,j=3,k=2 0.44\n",
      "For i=1,j=3,k=3 0.45\n",
      "For i=2,j=1,k=1 0.53\n",
      "For i=2,j=1,k=2 0.53\n",
      "For i=2,j=1,k=3 0.52\n",
      "For i=2,j=2,k=1 0.49\n",
      "For i=2,j=2,k=2 0.5\n",
      "For i=2,j=2,k=3 0.5\n",
      "For i=2,j=3,k=1 0.44\n",
      "For i=2,j=3,k=2 0.47\n",
      "For i=2,j=3,k=3 0.48\n",
      "For i=3,j=1,k=1 0.54\n",
      "For i=3,j=1,k=2 0.55\n",
      "For i=3,j=1,k=3 0.54\n",
      "For i=3,j=2,k=1 0.51\n",
      "For i=3,j=2,k=2 0.52\n",
      "For i=3,j=2,k=3 0.52\n",
      "For i=3,j=3,k=1 0.47\n",
      "For i=3,j=3,k=2 0.49\n",
      "For i=3,j=3,k=3 0.51\n"
     ]
    }
   ],
   "source": [
    "for i in range(1,4):\n",
    "  for j in range(1,4):\n",
    "    for k in range(1,4):\n",
    "      vr = VotingRegressor(estimators,weights=[i,j,k])\n",
    "      scores = cross_val_score(vr,X,y,scoring='r2',cv=10)\n",
    "      print(\"For i={},j={},k={}\".format(i,j,k),np.round(np.mean(scores),2))"
   ]
  },
  {
   "cell_type": "code",
   "execution_count": 69,
   "id": "4a963a9d-b3ae-4857-8e91-59375f40b203",
   "metadata": {},
   "outputs": [],
   "source": [
    "\n",
    "# using the same algorithm\n",
    "\n",
    "dt1 = DecisionTreeRegressor(max_depth=1)\n",
    "dt2 = DecisionTreeRegressor(max_depth=3)\n",
    "dt3 = DecisionTreeRegressor(max_depth=5)\n",
    "dt4 = DecisionTreeRegressor(max_depth=7)\n",
    "dt5 = DecisionTreeRegressor(max_depth=None)"
   ]
  },
  {
   "cell_type": "code",
   "execution_count": 70,
   "id": "ffbad1f4-7ffd-40e2-a695-83c88e5ca2a0",
   "metadata": {},
   "outputs": [
    {
     "name": "stdout",
     "output_type": "stream",
     "text": [
      "dt1 0.13\n",
      "dt2 0.36\n",
      "dt3 0.43\n",
      "dt4 0.47\n",
      "dt5 0.26\n"
     ]
    }
   ],
   "source": [
    "\n",
    "estimators = [('dt1',dt1),('dt2',dt2),('dt3',dt3),('dt4',dt4),('dt5',dt5)]\n",
    "     \n",
    "\n",
    "for estimator in estimators:\n",
    "  scores = cross_val_score(estimator[1],X,y,scoring='r2',cv=10)\n",
    "  print(estimator[0],np.round(np.mean(scores),2))"
   ]
  },
  {
   "cell_type": "code",
   "execution_count": 71,
   "id": "7d652769-cc1c-4a9f-9cc9-4857dbc1de21",
   "metadata": {},
   "outputs": [
    {
     "name": "stdout",
     "output_type": "stream",
     "text": [
      "Voting Regressor 0.5\n"
     ]
    }
   ],
   "source": [
    "vr = VotingRegressor(estimators)\n",
    "scores = cross_val_score(vr,X,y,scoring='r2',cv=10)\n",
    "print(\"Voting Regressor\",np.round(np.mean(scores),2))"
   ]
  },
  {
   "cell_type": "code",
   "execution_count": null,
   "id": "15a86892-cef6-434c-867e-e404e5c9a02c",
   "metadata": {},
   "outputs": [],
   "source": []
  }
 ],
 "metadata": {
  "kernelspec": {
   "display_name": "Python 3 (ipykernel)",
   "language": "python",
   "name": "python3"
  },
  "language_info": {
   "codemirror_mode": {
    "name": "ipython",
    "version": 3
   },
   "file_extension": ".py",
   "mimetype": "text/x-python",
   "name": "python",
   "nbconvert_exporter": "python",
   "pygments_lexer": "ipython3",
   "version": "3.12.7"
  }
 },
 "nbformat": 4,
 "nbformat_minor": 5
}
